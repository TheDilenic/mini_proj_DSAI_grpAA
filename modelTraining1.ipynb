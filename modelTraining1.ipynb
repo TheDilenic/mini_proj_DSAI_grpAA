{
 "cells": [
  {
   "cell_type": "markdown",
   "id": "0eb145c7",
   "metadata": {},
   "source": [
    "## Model Training to test [????????????]\n",
    "---"
   ]
  },
  {
   "cell_type": "code",
   "execution_count": 3,
   "id": "6fb5aa5c",
   "metadata": {},
   "outputs": [],
   "source": [
    "# Basic Libraries\n",
    "import numpy as np\n",
    "import pandas as pd\n",
    "import seaborn as sb\n",
    "import matplotlib.pyplot as plt # we only need pyplot\n",
    "sb.set() # set the default Seaborn style for graphics"
   ]
  },
  {
   "cell_type": "code",
   "execution_count": 4,
   "id": "f6002f3e",
   "metadata": {},
   "outputs": [
    {
     "data": {
      "text/html": [
       "<div>\n",
       "<style scoped>\n",
       "    .dataframe tbody tr th:only-of-type {\n",
       "        vertical-align: middle;\n",
       "    }\n",
       "\n",
       "    .dataframe tbody tr th {\n",
       "        vertical-align: top;\n",
       "    }\n",
       "\n",
       "    .dataframe thead th {\n",
       "        text-align: right;\n",
       "    }\n",
       "</style>\n",
       "<table border=\"1\" class=\"dataframe\">\n",
       "  <thead>\n",
       "    <tr style=\"text-align: right;\">\n",
       "      <th></th>\n",
       "      <th>Country code</th>\n",
       "      <th>Country name</th>\n",
       "      <th>Year</th>\n",
       "      <th>EnergyUse_perCapita</th>\n",
       "      <th>CO2_Emissions</th>\n",
       "      <th>GDP</th>\n",
       "      <th>Population</th>\n",
       "    </tr>\n",
       "  </thead>\n",
       "  <tbody>\n",
       "    <tr>\n",
       "      <th>0</th>\n",
       "      <td>AGO</td>\n",
       "      <td>Angola</td>\n",
       "      <td>1990</td>\n",
       "      <td>569.242999</td>\n",
       "      <td>4429.736</td>\n",
       "      <td>1.026019e+10</td>\n",
       "      <td>10335052.0</td>\n",
       "    </tr>\n",
       "    <tr>\n",
       "      <th>1</th>\n",
       "      <td>AGO</td>\n",
       "      <td>Angola</td>\n",
       "      <td>1991</td>\n",
       "      <td>565.451027</td>\n",
       "      <td>4367.397</td>\n",
       "      <td>1.219375e+10</td>\n",
       "      <td>10653515.0</td>\n",
       "    </tr>\n",
       "    <tr>\n",
       "      <th>2</th>\n",
       "      <td>AGO</td>\n",
       "      <td>Angola</td>\n",
       "      <td>1992</td>\n",
       "      <td>550.548264</td>\n",
       "      <td>4418.735</td>\n",
       "      <td>5.779394e+09</td>\n",
       "      <td>11002910.0</td>\n",
       "    </tr>\n",
       "    <tr>\n",
       "      <th>3</th>\n",
       "      <td>AGO</td>\n",
       "      <td>Angola</td>\n",
       "      <td>1993</td>\n",
       "      <td>551.688878</td>\n",
       "      <td>5801.194</td>\n",
       "      <td>5.285600e+09</td>\n",
       "      <td>11371750.0</td>\n",
       "    </tr>\n",
       "    <tr>\n",
       "      <th>4</th>\n",
       "      <td>AGO</td>\n",
       "      <td>Angola</td>\n",
       "      <td>1994</td>\n",
       "      <td>541.553067</td>\n",
       "      <td>3890.687</td>\n",
       "      <td>4.059577e+09</td>\n",
       "      <td>11742960.0</td>\n",
       "    </tr>\n",
       "  </tbody>\n",
       "</table>\n",
       "</div>"
      ],
      "text/plain": [
       "  Country code Country name  Year  EnergyUse_perCapita  CO2_Emissions  \\\n",
       "0          AGO       Angola  1990           569.242999       4429.736   \n",
       "1          AGO       Angola  1991           565.451027       4367.397   \n",
       "2          AGO       Angola  1992           550.548264       4418.735   \n",
       "3          AGO       Angola  1993           551.688878       5801.194   \n",
       "4          AGO       Angola  1994           541.553067       3890.687   \n",
       "\n",
       "            GDP  Population  \n",
       "0  1.026019e+10  10335052.0  \n",
       "1  1.219375e+10  10653515.0  \n",
       "2  5.779394e+09  11002910.0  \n",
       "3  5.285600e+09  11371750.0  \n",
       "4  4.059577e+09  11742960.0  "
      ]
     },
     "execution_count": 4,
     "metadata": {},
     "output_type": "execute_result"
    }
   ],
   "source": [
    "clean_cc_data = pd.read_csv('dataset_ClimateChange/Cleaned_ClimateData.csv')\n",
    "clean_cc_data.head()"
   ]
  },
  {
   "cell_type": "markdown",
   "id": "e1b95380",
   "metadata": {},
   "source": []
  }
 ],
 "metadata": {
  "kernelspec": {
   "display_name": "Python 3",
   "language": "python",
   "name": "python3"
  },
  "language_info": {
   "codemirror_mode": {
    "name": "ipython",
    "version": 3
   },
   "file_extension": ".py",
   "mimetype": "text/x-python",
   "name": "python",
   "nbconvert_exporter": "python",
   "pygments_lexer": "ipython3",
   "version": "3.13.0"
  }
 },
 "nbformat": 4,
 "nbformat_minor": 5
}
